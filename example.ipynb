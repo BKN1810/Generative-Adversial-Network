{
 "cells": [
  {
   "cell_type": "code",
   "execution_count": 5,
   "metadata": {},
   "outputs": [
    {
     "name": "stdout",
     "output_type": "stream",
     "text": [
      "(2, 2)\n",
      "[[1 2]\n",
      " [7 8]]\n",
      "======================================================\n",
      "(1, 2, 2)\n",
      "[[[1 2]\n",
      "  [7 8]]]\n",
      "======================================================\n",
      "(1, 1, 2, 2)\n",
      "[[[[1 2]\n",
      "   [7 8]]]]\n",
      "======================================================\n",
      "(1, 1, 2, 2, 1)\n",
      "[[[[[1]\n",
      "    [2]]\n",
      "\n",
      "   [[7]\n",
      "    [8]]]]]\n"
     ]
    }
   ],
   "source": [
    "# import numpy \n",
    "import numpy as np \n",
    "  \n",
    "# using Numpy.expand_dims() method \n",
    "gfg = np.array([[1, 2], [7, 8]]) \n",
    "print(gfg.shape) \n",
    "print(gfg) \n",
    "print(\"======================================================\")\n",
    "gfg = np.expand_dims(gfg, axis = 0) \n",
    "print(gfg.shape) \n",
    "print(gfg) \n",
    "print(\"======================================================\")\n",
    "gfg = np.expand_dims(gfg, axis = 1) \n",
    "print(gfg.shape) \n",
    "print(gfg) \n",
    "\n",
    "print(\"======================================================\")\n",
    "gfg = np.expand_dims(gfg, axis = -1) \n",
    "print(gfg.shape) \n",
    "print(gfg) "
   ]
  },
  {
   "cell_type": "code",
   "execution_count": null,
   "metadata": {},
   "outputs": [],
   "source": []
  }
 ],
 "metadata": {
  "kernelspec": {
   "display_name": "Python 3",
   "language": "python",
   "name": "python3"
  },
  "language_info": {
   "codemirror_mode": {
    "name": "ipython",
    "version": 3
   },
   "file_extension": ".py",
   "mimetype": "text/x-python",
   "name": "python",
   "nbconvert_exporter": "python",
   "pygments_lexer": "ipython3",
   "version": "3.8.3"
  }
 },
 "nbformat": 4,
 "nbformat_minor": 4
}
